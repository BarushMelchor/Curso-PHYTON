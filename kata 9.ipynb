{
 "cells": [
  {
   "cell_type": "code",
   "execution_count": 1,
   "metadata": {},
   "outputs": [],
   "source": [
    "def tanques(tanque1, tanque2, tanque3):\n",
    "    promedio = (tanque1 + tanque2 + tanque3)/3\n",
    "    return f\"\"\"El tanque principal tiene {tanque1} litros de combustible.\n",
    "    El tanque secundario tiene {tanque2} litros de combustible.\n",
    "    El tanque de reserva tiene {tanque3} litros de combustible.\n",
    "    En promedio, los tanques tienen {promedio} litros de combustible cada uno\"\"\""
   ]
  },
  {
   "cell_type": "code",
   "execution_count": 2,
   "metadata": {},
   "outputs": [
    {
     "name": "stdout",
     "output_type": "stream",
     "text": [
      "El tanque principal tiene 50 litros de combustible.\n",
      "    El tanque secundario tiene 60 litros de combustible.\n",
      "    El tanque de reserva tiene 70 litros de combustible.\n",
      "    En promedio, los tanques tienen 60.0 litros de combustible cada uno\n"
     ]
    }
   ],
   "source": [
    "print(tanques(50,60,70))"
   ]
  },
  {
   "cell_type": "code",
   "execution_count": 11,
   "metadata": {},
   "outputs": [],
   "source": [
    "def tanques(tanque1, tanque2, tanque3):\n",
    "    return f\"\"\"El tanque principal tiene {tanque1} litros de combustible.\n",
    "    El tanque secundario tiene {tanque2} litros de combustible.\n",
    "    El tanque de reserva tiene {tanque3} litros de combustible.\n",
    "    En promedio, los tanques tienen {(tanque1, tanque2, tanque3)} litros de combustible cada uno\"\"\""
   ]
  },
  {
   "cell_type": "code",
   "execution_count": 12,
   "metadata": {},
   "outputs": [
    {
     "name": "stdout",
     "output_type": "stream",
     "text": [
      "El tanque principal tiene 10 litros de combustible.\n",
      "    El tanque secundario tiene 20 litros de combustible.\n",
      "    El tanque de reserva tiene 30 litros de combustible.\n",
      "    En promedio, los tanques tienen (10, 20, 30) litros de combustible cada uno\n"
     ]
    }
   ],
   "source": [
    "print(tanques(10,20,30))"
   ]
  },
  {
   "cell_type": "code",
   "execution_count": 13,
   "metadata": {},
   "outputs": [],
   "source": [
    "def informeDeLaMision(horaLanzamiento, tiempoDeVuelo, destino, tanque1):\n",
    "    return f\"\"\"Informe de la mision:\n",
    "            Hora de prelanzamiento: {horaLanzamiento}.\n",
    "            Tiempo de vuelo: {tiempoDeVuelo}.\n",
    "            Destino: {destino}.\n",
    "            Nivel de combustible:{tanque1}.\"\"\""
   ]
  },
  {
   "cell_type": "code",
   "execution_count": 14,
   "metadata": {},
   "outputs": [],
   "source": [
    "def informeDeLaMision(horaLanzamiento, *tiempoDeVuelo, destino, **tanques):\n",
    "    return f\"\"\"Informe de la mision:\n",
    "            Hora de prelanzamiento: {horaLanzamiento}.\n",
    "            Tiempo de vuelo: {sum(tiempoDeVuelo)}.\n",
    "            Destino: {destino}.\n",
    "            Nivel de combustible:{sum(tanques.values())}.\"\"\""
   ]
  }
 ],
 "metadata": {
  "interpreter": {
   "hash": "58838dd6de3b80af3e131b8afacf9a69e9b78f68d8bdf9cb275c8681f9cb279b"
  },
  "kernelspec": {
   "display_name": "Python 3.10.2 64-bit",
   "language": "python",
   "name": "python3"
  },
  "language_info": {
   "codemirror_mode": {
    "name": "ipython",
    "version": 3
   },
   "file_extension": ".py",
   "mimetype": "text/x-python",
   "name": "python",
   "nbconvert_exporter": "python",
   "pygments_lexer": "ipython3",
   "version": "3.10.2"
  },
  "orig_nbformat": 4
 },
 "nbformat": 4,
 "nbformat_minor": 2
}
