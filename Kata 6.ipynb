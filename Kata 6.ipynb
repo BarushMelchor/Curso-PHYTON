{
 "cells": [
  {
   "cell_type": "code",
   "execution_count": null,
   "metadata": {},
   "outputs": [],
   "source": [
    "Planets = ['Pluton','Tierra','Marte','Jupiter','Saturno','Nepturno','Venus','Mercurio']\n",
    "\n",
    "Planets.append('Pluton')\n",
    "No_Planets = len(Planets)\n",
    "print('There actually', No_Planets, 'Planets in the solar sistem.')\n",
    "\n",
    "print('The last planet is', Planets[-1])"
   ]
  },
  {
   "cell_type": "code",
   "execution_count": 18,
   "metadata": {},
   "outputs": [],
   "source": [
    "Planetas = ['Pluton','Tierra','Marte','Jupiter','Saturno','Nepturno','Venus','Mercurio']"
   ]
  },
  {
   "cell_type": "code",
   "execution_count": 19,
   "metadata": {},
   "outputs": [],
   "source": [
    "Usuario_Planeta = input('Por favor introduzca el nombre del planeta (Con mayuscula al inicio)')"
   ]
  },
  {
   "cell_type": "code",
   "execution_count": 24,
   "metadata": {},
   "outputs": [
    {
     "name": "stdout",
     "output_type": "stream",
     "text": [
      "Planetas mas cercanos de Pluton\n",
      "[]\n"
     ]
    }
   ],
   "source": [
    "Planetas_index = Planetas.index (Usuario_Planeta)\n",
    "\n",
    "print('Planetas mas cercanos de ' + Usuario_Planeta)\n",
    "print(Planetas[0:Planetas_index])"
   ]
  },
  {
   "cell_type": "code",
   "execution_count": 25,
   "metadata": {},
   "outputs": [
    {
     "name": "stdout",
     "output_type": "stream",
     "text": [
      "Planetas mas lejos de Pluton\n",
      "Mercurio\n"
     ]
    }
   ],
   "source": [
    "print('Planetas mas lejos de ' + Usuario_Planeta)\n",
    "print(Planetas[Planetas_index -1])"
   ]
  }
 ],
 "metadata": {
  "interpreter": {
   "hash": "58838dd6de3b80af3e131b8afacf9a69e9b78f68d8bdf9cb275c8681f9cb279b"
  },
  "kernelspec": {
   "display_name": "Python 3.10.2 64-bit",
   "language": "python",
   "name": "python3"
  },
  "language_info": {
   "codemirror_mode": {
    "name": "ipython",
    "version": 3
   },
   "file_extension": ".py",
   "mimetype": "text/x-python",
   "name": "python",
   "nbconvert_exporter": "python",
   "pygments_lexer": "ipython3",
   "version": "3.10.2"
  },
  "orig_nbformat": 4
 },
 "nbformat": 4,
 "nbformat_minor": 2
}
