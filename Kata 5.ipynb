{
 "cells": [
  {
   "cell_type": "code",
   "execution_count": 28,
   "metadata": {},
   "outputs": [],
   "source": [
    "Tierra = 149597870\n",
    "Jupiter = 778547200"
   ]
  },
  {
   "cell_type": "code",
   "execution_count": 29,
   "metadata": {},
   "outputs": [
    {
     "name": "stdout",
     "output_type": "stream",
     "text": [
      "628949330\n",
      "390577533.93\n"
     ]
    }
   ],
   "source": [
    "Tierra = 149597870\n",
    "Jupiter = 778547200\n",
    "diff = 149597870 - 778547200\n",
    "print(abs(diff))\n",
    "\n",
    "distance = diff * 0.621\n",
    "print(abs(distance))"
   ]
  },
  {
   "cell_type": "code",
   "execution_count": null,
   "metadata": {},
   "outputs": [],
   "source": [
    "Tierra = input ('Introduzca Distancia de la Tierra hacia el sol Km') \n",
    "Marte = input ('Introduzca Distancia de Marte hacia el sol en Km')"
   ]
  },
  {
   "cell_type": "code",
   "execution_count": 30,
   "metadata": {},
   "outputs": [],
   "source": [
    "Tierra = int(Tierra)\n",
    "Marte = int(Marte)"
   ]
  },
  {
   "cell_type": "code",
   "execution_count": 31,
   "metadata": {},
   "outputs": [
    {
     "name": "stdout",
     "output_type": "stream",
     "text": [
      "78302130\n"
     ]
    }
   ],
   "source": [
    "Diferencia = Tierra - Marte\n",
    "print(abs(Diferencia))"
   ]
  },
  {
   "cell_type": "code",
   "execution_count": 32,
   "metadata": {},
   "outputs": [
    {
     "name": "stdout",
     "output_type": "stream",
     "text": [
      "48625622.73\n"
     ]
    }
   ],
   "source": [
    "Millas = Diferencia * 0.621\n",
    "print(abs(Millas))"
   ]
  }
 ],
 "metadata": {
  "interpreter": {
   "hash": "58838dd6de3b80af3e131b8afacf9a69e9b78f68d8bdf9cb275c8681f9cb279b"
  },
  "kernelspec": {
   "display_name": "Python 3.10.2 64-bit",
   "language": "python",
   "name": "python3"
  },
  "language_info": {
   "codemirror_mode": {
    "name": "ipython",
    "version": 3
   },
   "file_extension": ".py",
   "mimetype": "text/x-python",
   "name": "python",
   "nbconvert_exporter": "python",
   "pygments_lexer": "ipython3",
   "version": "3.10.2"
  },
  "orig_nbformat": 4
 },
 "nbformat": 4,
 "nbformat_minor": 2
}
